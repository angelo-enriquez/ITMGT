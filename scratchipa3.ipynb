{
 "cells": [
  {
   "cell_type": "code",
   "execution_count": 2,
   "id": "cef441bf-2619-4ddc-a9da-410105b083b2",
   "metadata": {},
   "outputs": [],
   "source": [
    "def relationship_status(from_member, to_member, social_graph):\n",
    "    '''Relationship Status.\n",
    "    20 points.\n",
    "\n",
    "    Let us pretend that you are building a new app.\n",
    "    Your app supports social media functionality, which means that users can have\n",
    "    relationships with other users.\n",
    "\n",
    "    There are two guidelines for describing relationships on this social media app:\n",
    "    1. Any user can follow any other user.\n",
    "    2. If two users follow each other, they are considered friends.\n",
    "\n",
    "    This function describes the relationship that two users have with each other.\n",
    "\n",
    "    Please see \"assignment-4-sample-data.py\" for sample data. The social graph\n",
    "    will adhere to the same pattern.\n",
    "\n",
    "    Parameters\n",
    "    ----------\n",
    "    from_member: str\n",
    "        the subject member\n",
    "    to_member: str\n",
    "        the object member\n",
    "    social_graph: dict\n",
    "        the relationship data\n",
    "\n",
    "    Returns\n",
    "    -------\n",
    "    str\n",
    "        \"follower\" if fromMember follows toMember,\n",
    "        \"followed by\" if fromMember is followed by toMember,\n",
    "        \"friends\" if fromMember and toMember follow each other,\n",
    "        \"no relationship\" if neither fromMember nor toMember follow each other.\n",
    "    '''\n",
    "    # Replace `pass` with your code.\n",
    "    # Stay within the function. Only use the parameters as input. The function should return your answer.\n",
    "    if from_member in social_graph and to_member in social_graph:\n",
    "        from_member_following = social_graph[from_member][\"following\"]\n",
    "        to_member_following = social_graph[to_member][\"following\"]\n",
    "        \n",
    "        if from_member in to_member_following and to_member in from_member_following:\n",
    "            return \"friends\"\n",
    "        elif from_member in to_member_following:\n",
    "            return \"followed by\"\n",
    "        elif to_member in from_member_following:\n",
    "            return \"follower\"\n",
    "    \n",
    "    return \"no relationship\""
   ]
  },
  {
   "cell_type": "code",
   "execution_count": 3,
   "id": "3c592b9a-b734-4bdc-a7d4-c503639987c5",
   "metadata": {},
   "outputs": [
    {
     "data": {
      "text/plain": [
       "'friends'"
      ]
     },
     "execution_count": 3,
     "metadata": {},
     "output_type": "execute_result"
    }
   ],
   "source": [
    "relationship_status(\"@jobenilagan\", \"@eeebeee\", {\n",
    "    \"@bongolpoc\":{\"first_name\":\"Joselito\",\n",
    "                  \"last_name\":\"Olpoc\",\n",
    "                  \"following\":[\n",
    "                  ]\n",
    "    },\n",
    "    \"@joaquin\":  {\"first_name\":\"Joaquin\",\n",
    "                  \"last_name\":\"Gonzales\",\n",
    "                  \"following\":[\n",
    "                      \"@chums\",\"@jobenilagan\"\n",
    "                  ]\n",
    "    },\n",
    "    \"@chums\" : {\"first_name\":\"Matthew\",\n",
    "                \"last_name\":\"Uy\",\n",
    "                \"following\":[\n",
    "                    \"@bongolpoc\",\"@miketan\",\"@rudyang\",\"@joeilagan\"\n",
    "                ]\n",
    "    },\n",
    "    \"@jobenilagan\":{\"first_name\":\"Joben\",\n",
    "                   \"last_name\":\"Ilagan\",\n",
    "                   \"following\":[\n",
    "                    \"@eeebeee\",\"@joeilagan\",\"@chums\",\"@joaquin\"\n",
    "                   ]\n",
    "    },\n",
    "    \"@joeilagan\":{\"first_name\":\"Joe\",\n",
    "                  \"last_name\":\"Ilagan\",\n",
    "                  \"following\":[\n",
    "                    \"@eeebeee\",\"@jobenilagan\",\"@chums\"\n",
    "                  ]\n",
    "    },\n",
    "    \"@eeebeee\":  {\"first_name\":\"Elizabeth\",\n",
    "                  \"last_name\":\"Ilagan\",\n",
    "                  \"following\":[\n",
    "                    \"@jobenilagan\",\"@joeilagan\"\n",
    "                  ]\n",
    "    },\n",
    "})"
   ]
  },
  {
   "cell_type": "code",
   "execution_count": 24,
   "id": "9279cabb-0200-42cf-ac6a-3fbf26900111",
   "metadata": {},
   "outputs": [],
   "source": [
    "def tic_tac_toe(board):\n",
    "    '''Tic Tac Toe.\n",
    "    25 points.\n",
    "\n",
    "    Tic Tac Toe is a common paper-and-pencil game.\n",
    "    Players must attempt to successfully draw a straight line of their symbol across a grid.\n",
    "    The player that does this first is considered the winner.\n",
    "\n",
    "    This function evaluates a tic tac toe board and returns the winner.\n",
    "\n",
    "    Please see \"assignment-4-sample-data.py\" for sample data. The board will adhere\n",
    "    to the same pattern. The board may by 3x3, 4x4, 5x5, or 6x6. The board will never\n",
    "    have more than one winner. The board will only ever have 2 unique symbols at the same time.\n",
    "\n",
    "    Parameters\n",
    "    ----------\n",
    "    board: list\n",
    "        the representation of the tic-tac-toe board as a square list of lists\n",
    "\n",
    "    Returns\n",
    "    -------\n",
    "    str\n",
    "        the symbol of the winner or \"NO WINNER\" if there is no winner\n",
    "    '''\n",
    "    # Replace `pass` with your code.\n",
    "    # Stay within the function. Only use the parameters as input. The function should return your answer.\n",
    "    for row in board:\n",
    "        if all(cell and cell == row[0] for cell in row):\n",
    "            return row[0]\n",
    "\n",
    "    for col in range(len(board[0])):\n",
    "        if all(board[0][col] and board[0][col] == board[row][col] for row in range(len(board))):\n",
    "            return board[0][col]\n",
    "\n",
    "    if all(board[0][0] and board[0][0] == board[i][i] for i in range(len(board))):\n",
    "        return board[0][0]\n",
    "\n",
    "    if all(board[0][len(board)-1] and board[0][len(board)-1] == board[i][len(board)-1-i] for i in range(len(board))):\n",
    "        return board[0][len(board)-1]\n",
    "\n",
    "    return \"NO WINNER\""
   ]
  },
  {
   "cell_type": "code",
   "execution_count": 25,
   "id": "73d6f7fe-b834-462c-859b-9db04f4c3597",
   "metadata": {},
   "outputs": [
    {
     "data": {
      "text/plain": [
       "'O'"
      ]
     },
     "execution_count": 25,
     "metadata": {},
     "output_type": "execute_result"
    }
   ],
   "source": [
    "tic_tac_toe([\n",
    "['X','X','O','X','X','O'],\n",
    "['O','X','O','O','X','O'],\n",
    "['O','X','X','O','X','O'],\n",
    "['X','X','O','X','X','O'],\n",
    "['O','X','O','O','X','O'],\n",
    "['O','','X','O','O','O'],\n",
    "])"
   ]
  },
  {
   "cell_type": "code",
   "execution_count": 46,
   "id": "37850de9-2c9f-4695-9c43-32353c7445dd",
   "metadata": {},
   "outputs": [],
   "source": [
    "def eta(first_stop, second_stop, route_map):\n",
    "    '''ETA.\n",
    "    25 points.\n",
    "\n",
    "    A shuttle van service is tasked to travel along a predefined circlar route.\n",
    "    This route is divided into several legs between stops.\n",
    "    The route is one-way only, and it is fully connected to itself.\n",
    "\n",
    "    This function returns how long it will take the shuttle to arrive at a stop\n",
    "    after leaving another stop.\n",
    "\n",
    "    Please see \"mod-4-ipa-1-sample-data.py\" for sample data. The route map will\n",
    "    adhere to the same pattern. The route map may contain more legs and more stops,\n",
    "    but it will always be one-way and fully enclosed.\n",
    "\n",
    "    Parameters\n",
    "    ----------\n",
    "    first_stop: str\n",
    "        the stop that the shuttle will leave\n",
    "    second_stop: str\n",
    "        the stop that the shuttle will arrive at\n",
    "    route_map: dict\n",
    "        the data describing the routes\n",
    "\n",
    "    Returns\n",
    "    -------\n",
    "    int\n",
    "        the time it will take the shuttle to travel from first_stop to second_stop\n",
    "    '''\n",
    "    # Replace `pass` with your code.\n",
    "    # Stay within the function. Only use the parameters as input. The function should return your answer.\n",
    "    current_stop = first_stop\n",
    "    time = 0\n",
    "    \n",
    "    while current_stop != second_stop:\n",
    "        for leg in route_map:\n",
    "            if leg[0] == current_stop:\n",
    "                next_stop = leg[1]\n",
    "                time += route_map[leg]['travel_time_mins']\n",
    "                current_stop = next_stop\n",
    "                break\n",
    "        else:\n",
    "            break\n",
    "    \n",
    "    return time"
   ]
  },
  {
   "cell_type": "code",
   "execution_count": 47,
   "id": "a7c0c09b-9d11-48de-9447-c1b83a8b43fe",
   "metadata": {},
   "outputs": [
    {
     "data": {
      "text/plain": [
       "10379"
      ]
     },
     "execution_count": 47,
     "metadata": {},
     "output_type": "execute_result"
    }
   ],
   "source": [
    "eta(\"a2\", \"a1\", {\n",
    "    ('a1', 'a2'): {\n",
    "        'travel_time_mins': 10\n",
    "    },\n",
    "    ('a2', 'b1'): {\n",
    "        'travel_time_mins': 10230\n",
    "    },\n",
    "    ('b1', 'c1'): {\n",
    "        'travel_time_mins': 1\n",
    "    },\n",
    "    ('c1', 'c3'): {\n",
    "        'travel_time_mins': 79\n",
    "    },\n",
    "    ('c3', 'a1'): {\n",
    "        'travel_time_mins': 69\n",
    "    }\n",
    "}\n",
    ")"
   ]
  },
  {
   "cell_type": "code",
   "execution_count": null,
   "id": "03b025c4-0c41-4b17-84a1-fe1c0aa18b77",
   "metadata": {},
   "outputs": [],
   "source": []
  }
 ],
 "metadata": {
  "kernelspec": {
   "display_name": "Python 3 (ipykernel)",
   "language": "python",
   "name": "python3"
  },
  "language_info": {
   "codemirror_mode": {
    "name": "ipython",
    "version": 3
   },
   "file_extension": ".py",
   "mimetype": "text/x-python",
   "name": "python",
   "nbconvert_exporter": "python",
   "pygments_lexer": "ipython3",
   "version": "3.10.9"
  }
 },
 "nbformat": 4,
 "nbformat_minor": 5
}
