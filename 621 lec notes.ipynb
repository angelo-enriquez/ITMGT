{
 "cells": [
  {
   "cell_type": "code",
   "execution_count": 2,
   "id": "554bb58a-ae6b-462e-9d8c-c81fd648c720",
   "metadata": {},
   "outputs": [
    {
     "data": {
      "text/plain": [
       "[1, 4, 9, 16, 25]"
      ]
     },
     "execution_count": 2,
     "metadata": {},
     "output_type": "execute_result"
    }
   ],
   "source": [
    "l = [1, 2, 3, 4, 5]\n",
    "[x**2 for x in l]"
   ]
  },
  {
   "cell_type": "code",
   "execution_count": 10,
   "id": "01481504-e7d8-498b-b5e5-f51c55882480",
   "metadata": {},
   "outputs": [
    {
     "ename": "NameError",
     "evalue": "name 'x' is not defined",
     "output_type": "error",
     "traceback": [
      "\u001b[0;31m---------------------------------------------------------------------------\u001b[0m",
      "\u001b[0;31mNameError\u001b[0m                                 Traceback (most recent call last)",
      "Cell \u001b[0;32mIn[10], line 8\u001b[0m\n\u001b[1;32m      6\u001b[0m l2 \u001b[38;5;241m=\u001b[39m []\n\u001b[1;32m      7\u001b[0m \u001b[38;5;28;01mfor\u001b[39;00m num \u001b[38;5;129;01min\u001b[39;00m l:\n\u001b[0;32m----> 8\u001b[0m     squared \u001b[38;5;241m=\u001b[39m transform(\u001b[43mx\u001b[49m)\n\u001b[1;32m      9\u001b[0m     l2\u001b[38;5;241m.\u001b[39mappend(squared)\n",
      "\u001b[0;31mNameError\u001b[0m: name 'x' is not defined"
     ]
    }
   ],
   "source": [
    "#NOTES \n",
    "#CAESAR CIPHER for each char in a str\n",
    "l = [1, 2, 3, 4, 5]\n",
    "\n",
    "#def transform(x): x**2\n",
    "#l2 = []\n",
    "#for num in l:\n",
    "   # squared = transform(x)\n",
    "   # l2.append(squared)"
   ]
  },
  {
   "cell_type": "code",
   "execution_count": 11,
   "id": "453e7f1d-ac75-4a17-b23c-0380f0b054db",
   "metadata": {},
   "outputs": [],
   "source": [
    "#-MAP\n",
    "#Given a collection, produce a second collection which is a transformation of the first"
   ]
  },
  {
   "cell_type": "code",
   "execution_count": 12,
   "id": "f4d2a175-a139-487a-97d5-fd30adac3aff",
   "metadata": {},
   "outputs": [
    {
     "ename": "SyntaxError",
     "evalue": "'[' was never closed (869169491.py, line 3)",
     "output_type": "error",
     "traceback": [
      "\u001b[0;36m  Cell \u001b[0;32mIn[12], line 3\u001b[0;36m\u001b[0m\n\u001b[0;31m    l = [i for i in range (1, 101)\u001b[0m\n\u001b[0m        ^\u001b[0m\n\u001b[0;31mSyntaxError\u001b[0m\u001b[0;31m:\u001b[0m '[' was never closed\n"
     ]
    }
   ],
   "source": [
    "#-FILTER\n",
    "#Example: Say we have a list of numbers from 1 to 100, but we want to make a second list that only has even numbers\n",
    "l = [i for i in range (1, 101)]\n",
    "l2 = []\n",
    "     if num % 2 == 0\n",
    "     l2.append(num)\n",
    "#Given ... produce ... which only has elements that satisfy a condition\n",
    "def is_even(x)\n",
    "     return x%2 == 0\n",
    "\n",
    "     final code\n",
    "     l2 = []\n",
    "     for num in l:\n",
    "     if is_even(num):\n",
    "     l2.append(num)\n",
    "     \n",
    "#define function, define collection, math function\n",
    "    # you can refer a function to another function, u cant do that in C language,\n",
    "     # will be important in pandas for making tables"
   ]
  },
  {
   "cell_type": "code",
   "execution_count": null,
   "id": "bb0d0bb9-7ecf-48ea-9d0a-c5d0fff7a9db",
   "metadata": {},
   "outputs": [],
   "source": [
    "#-REDUCE\n",
    "my_sum=0\n",
    "for num im l:\n",
    "    my_sum += num\n",
    "def reduce (accumulate, next)\n",
    "return accumulate + next\n",
    "#Given a collection, produce a single value, reducing columns to get a total\n",
    "#look for terms like aggregate, sum, average, ..."
   ]
  }
 ],
 "metadata": {
  "kernelspec": {
   "display_name": "Python 3 (ipykernel)",
   "language": "python",
   "name": "python3"
  },
  "language_info": {
   "codemirror_mode": {
    "name": "ipython",
    "version": 3
   },
   "file_extension": ".py",
   "mimetype": "text/x-python",
   "name": "python",
   "nbconvert_exporter": "python",
   "pygments_lexer": "ipython3",
   "version": "3.10.9"
  }
 },
 "nbformat": 4,
 "nbformat_minor": 5
}
